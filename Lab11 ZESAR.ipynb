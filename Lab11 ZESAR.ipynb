{
 "cells": [
  {
   "cell_type": "code",
   "execution_count": 8,
   "metadata": {},
   "outputs": [
    {
     "name": "stdout",
     "output_type": "stream",
     "text": [
      "3\n",
      "xyz\n",
      "Result: \"abc\"\n"
     ]
    }
   ],
   "source": [
    "alpha = 'abcdefghijklmnopqrstuvwxyz'#основа используемый алфавит + пробел\n",
    "n = int(input()) #отступ влево и вправо (положительное число это вправо)\n",
    "s = input().strip()#используем строку без пробелов\n",
    "res = ''#результат строка\n",
    "for c in s:\n",
    "    res += alpha[(alpha.index(c) + n) % len(alpha)]#результат сложится из перебора номер символа+отступ остаток от деления на длинну алфавита\n",
    "print('Result: \"' + res + '\"')#выводим результат"
   ]
  },
  {
   "cell_type": "code",
   "execution_count": null,
   "metadata": {},
   "outputs": [],
   "source": []
  },
  {
   "cell_type": "code",
   "execution_count": null,
   "metadata": {},
   "outputs": [],
   "source": []
  }
 ],
 "metadata": {
  "kernelspec": {
   "display_name": "Python 3",
   "language": "python",
   "name": "python3"
  },
  "language_info": {
   "codemirror_mode": {
    "name": "ipython",
    "version": 3
   },
   "file_extension": ".py",
   "mimetype": "text/x-python",
   "name": "python",
   "nbconvert_exporter": "python",
   "pygments_lexer": "ipython3",
   "version": "3.8.5"
  }
 },
 "nbformat": 4,
 "nbformat_minor": 4
}
