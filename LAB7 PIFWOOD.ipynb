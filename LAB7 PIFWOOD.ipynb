{
 "cells": [
  {
   "cell_type": "code",
   "execution_count": 3,
   "metadata": {},
   "outputs": [
    {
     "name": "stdout",
     "output_type": "stream",
     "text": [
      "Введите длинну отрезка: 10\n",
      "Введите альфа: 45\n",
      "Введите k: 67\n"
     ]
    }
   ],
   "source": [
    "import turtle\n",
    "\n",
    "lenght = int(input(\"Введите длинну отрезка: \"))\n",
    "alfa = int(input(\"Введите альфа: \"))\n",
    "beta = 90 - alfa\n",
    "k = float(input(\"Введите k: \"))\n",
    "turtle.hideturtle()\n",
    "window = turtle.Screen()\n",
    "window.setup(width=800, height=600, startx=200, starty=50)\n",
    "\n",
    "def tree(f_lenght, min_lenght=10):\n",
    "    turtle.forward(f_lenght)\n",
    "    if f_lenght > min_lenght:\n",
    "        turtle.left(alfa)\n",
    "        tree(k * f_lenght, min_lenght)\n",
    "        turtle.right(90)\n",
    "        tree(k * f_lenght, min_lenght)\n",
    "        turtle.left(beta)\n",
    "    turtle.back(f_lenght)\n",
    "\n",
    "\n",
    "turtle.left(90)\n",
    "tree(lenght)\n",
    "window.exitonclick()"
   ]
  },
  {
   "cell_type": "code",
   "execution_count": null,
   "metadata": {},
   "outputs": [],
   "source": []
  },
  {
   "cell_type": "code",
   "execution_count": null,
   "metadata": {},
   "outputs": [],
   "source": []
  }
 ],
 "metadata": {
  "kernelspec": {
   "display_name": "Python 3",
   "language": "python",
   "name": "python3"
  },
  "language_info": {
   "codemirror_mode": {
    "name": "ipython",
    "version": 3
   },
   "file_extension": ".py",
   "mimetype": "text/x-python",
   "name": "python",
   "nbconvert_exporter": "python",
   "pygments_lexer": "ipython3",
   "version": "3.9.4"
  }
 },
 "nbformat": 4,
 "nbformat_minor": 4
}
