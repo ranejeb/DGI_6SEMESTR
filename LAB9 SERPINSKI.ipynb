{
 "cells": [
  {
   "cell_type": "code",
   "execution_count": null,
   "metadata": {},
   "outputs": [],
   "source": [
    "import turtle\n",
    "import random\n",
    "\n",
    "\n",
    "def draw_point(x, y, my_turtle):\n",
    "    my_turtle.penup()\n",
    "    i = 0\n",
    "    while i < len(x):\n",
    "        my_turtle.penup()\n",
    "        my_turtle.goto(x[i], y[i])\n",
    "        my_turtle.dot(2, \"black\")\n",
    "        my_turtle.end_fill()\n",
    "        my_turtle.pendown()\n",
    "        i += 1\n",
    "\n",
    "\n",
    "def sierpinski(points, my_turtle):\n",
    "    x = []\n",
    "    y = []\n",
    "    x.insert(0, -100)\n",
    "    y.insert(0, -50)\n",
    "    i = 1\n",
    "    while i < 10000:\n",
    "        random_number = random.random()\n",
    "        p1 = 1.0 / 3.0\n",
    "        p2 = 2.0 / 3.0\n",
    "        if random_number <= p1:\n",
    "            x_a = points[0][0]\n",
    "            y_a = points[0][1]\n",
    "        elif p1 < random_number < p2:\n",
    "            x_a = points[1][0]\n",
    "            y_a = points[1][1]\n",
    "        else:\n",
    "            x_a = points[2][0]\n",
    "            y_a = points[2][1]\n",
    "        x.insert(i, (x[i-1]+x_a) / 2)\n",
    "        y.insert(i, (y[i-1]+y_a) / 2)\n",
    "        i += 1\n",
    "    draw_point(x, y, my_turtle)\n",
    "\n",
    "\n",
    "def main():\n",
    "    my_turtle = turtle.Turtle()\n",
    "    my_turtle.speed(0)\n",
    "    my_win = turtle.Screen()\n",
    "    my_points = [[-100,-50], [0,100], [100,-50]]\n",
    "    sierpinski(my_points, my_turtle)\n",
    "    my_win.exitonclick()\n",
    "    turtle.done()\n",
    "\n",
    "\n",
    "if __name__ == \"__main__\":\n",
    "    main()\n"
   ]
  },
  {
   "cell_type": "code",
   "execution_count": null,
   "metadata": {},
   "outputs": [],
   "source": []
  }
 ],
 "metadata": {
  "kernelspec": {
   "display_name": "Python 3",
   "language": "python",
   "name": "python3"
  },
  "language_info": {
   "codemirror_mode": {
    "name": "ipython",
    "version": 3
   },
   "file_extension": ".py",
   "mimetype": "text/x-python",
   "name": "python",
   "nbconvert_exporter": "python",
   "pygments_lexer": "ipython3",
   "version": "3.8.5"
  }
 },
 "nbformat": 4,
 "nbformat_minor": 4
}
