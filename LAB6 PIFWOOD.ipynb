{
 "cells": [
  {
   "cell_type": "code",
   "execution_count": 1,
   "metadata": {},
   "outputs": [
    {
     "name": "stdout",
     "output_type": "stream",
     "text": [
      "Введите длинну отрезка: 100\n",
      "Введите n: 3\n",
      "Введите альфа: 3\n"
     ]
    },
    {
     "ename": "NameError",
     "evalue": "name 't' is not defined",
     "output_type": "error",
     "traceback": [
      "\u001b[1;31m---------------------------------------------------------------------------\u001b[0m",
      "\u001b[1;31mNameError\u001b[0m                                 Traceback (most recent call last)",
      "\u001b[1;32m<ipython-input-1-65d4da851f17>\u001b[0m in \u001b[0;36m<module>\u001b[1;34m\u001b[0m\n\u001b[0;32m     38\u001b[0m \u001b[1;33m\u001b[0m\u001b[0m\n\u001b[0;32m     39\u001b[0m \u001b[1;33m\u001b[0m\u001b[0m\n\u001b[1;32m---> 40\u001b[1;33m \u001b[0mt\u001b[0m\u001b[1;33m.\u001b[0m\u001b[0mleft\u001b[0m\u001b[1;33m(\u001b[0m\u001b[1;36m90\u001b[0m\u001b[1;33m)\u001b[0m\u001b[1;33m\u001b[0m\u001b[1;33m\u001b[0m\u001b[0m\n\u001b[0m\u001b[0;32m     41\u001b[0m \u001b[0mfractal\u001b[0m\u001b[1;33m(\u001b[0m\u001b[0mt\u001b[0m\u001b[1;33m,\u001b[0m \u001b[0mlenght\u001b[0m\u001b[1;33m,\u001b[0m \u001b[1;36m1\u001b[0m\u001b[1;33m,\u001b[0m \u001b[0mn\u001b[0m\u001b[1;33m)\u001b[0m\u001b[1;33m\u001b[0m\u001b[1;33m\u001b[0m\u001b[0m\n\u001b[0;32m     42\u001b[0m \u001b[0mwindow\u001b[0m\u001b[1;33m.\u001b[0m\u001b[0mexitonclick\u001b[0m\u001b[1;33m(\u001b[0m\u001b[1;33m)\u001b[0m\u001b[1;33m\u001b[0m\u001b[1;33m\u001b[0m\u001b[0m\n",
      "\u001b[1;31mNameError\u001b[0m: name 't' is not defined"
     ]
    }
   ],
   "source": [
    "import math\n",
    "import turtle\n",
    "\n",
    "lenght = int(input(\"Введите длинну отрезка: \"))\n",
    "n = int(input(\"Введите n: \"))\n",
    "alfa = int(input(\"Введите альфа: \"))\n",
    "beta = 90 - alfa\n",
    "\n",
    "window = turtle.Screen()\n",
    "window.setup(width=800, height=600, startx=200, starty=50)\n",
    "\n",
    "\n",
    "def fractal(aturt, length, depth, maxdepth):\n",
    "    if depth > maxdepth:\n",
    "        return\n",
    "    length1 = length * math.sin(math.radians(alfa))\n",
    "    length2 = length * math.sin(math.radians(beta))\n",
    "\n",
    "    aturt.color(\"green\")\n",
    "    anotherturt = aturt.clone()\n",
    "    anotherturt.color(\"blue\")\n",
    "    aturt.forward(length)\n",
    "    aturt.left(alfa)\n",
    "    fractal(aturt, length2, depth + 1, maxdepth)\n",
    "    anotherturt.right(90)\n",
    "    anotherturt.forward(length)\n",
    "    anotherturt.left(90)\n",
    "    anotherturt.forward(length)\n",
    "    if depth != maxdepth:\n",
    "        turt3 = anotherturt.clone()\n",
    "        turt3.color(\"yellow\")\n",
    "        turt3.left(alfa)\n",
    "        turt3.forward(length1)\n",
    "        turt3.right(90)\n",
    "        fractal(turt3, length1, depth + 1, maxdepth)\n",
    "    anotherturt.left(90)\n",
    "    anotherturt.forward(length)\n",
    "\n",
    "\n",
    "t.left(90)\n",
    "fractal(t, lenght, 1, n)\n",
    "window.exitonclick()"
   ]
  },
  {
   "cell_type": "code",
   "execution_count": null,
   "metadata": {},
   "outputs": [],
   "source": []
  }
 ],
 "metadata": {
  "kernelspec": {
   "display_name": "Python 3",
   "language": "python",
   "name": "python3"
  },
  "language_info": {
   "codemirror_mode": {
    "name": "ipython",
    "version": 3
   },
   "file_extension": ".py",
   "mimetype": "text/x-python",
   "name": "python",
   "nbconvert_exporter": "python",
   "pygments_lexer": "ipython3",
   "version": "3.9.4"
  }
 },
 "nbformat": 4,
 "nbformat_minor": 4
}
