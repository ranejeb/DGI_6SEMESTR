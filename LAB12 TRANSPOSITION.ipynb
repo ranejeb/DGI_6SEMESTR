{
 "cells": [
  {
   "cell_type": "code",
   "execution_count": 1,
   "metadata": {},
   "outputs": [
    {
     "ename": "SyntaxError",
     "evalue": "Missing parentheses in call to 'print'. Did you mean print(encoded)? (<ipython-input-1-db582d4d2b67>, line 9)",
     "output_type": "error",
     "traceback": [
      "\u001b[1;36m  File \u001b[1;32m\"<ipython-input-1-db582d4d2b67>\"\u001b[1;36m, line \u001b[1;32m9\u001b[0m\n\u001b[1;33m    print encoded\u001b[0m\n\u001b[1;37m          ^\u001b[0m\n\u001b[1;31mSyntaxError\u001b[0m\u001b[1;31m:\u001b[0m Missing parentheses in call to 'print'. Did you mean print(encoded)?\n"
     ]
    }
   ],
   "source": [
    "def encode(txt,key):\n",
    "    sz = len(key)  # how big are the columns \n",
    "    cols = list(map(\"\".join,zip(*zip(*[iter(txt)]*sz)))) # list partitioned into columns\n",
    "    return \"\".join([cols[key.index(str(c))] for c in range(1,sz+1)])\n",
    "\n",
    "\n",
    "\n",
    "encoded = encode(\"IHAVETWOCATS\",\"3124\")\n",
    "print encoded"
   ]
  },
  {
   "cell_type": "code",
   "execution_count": null,
   "metadata": {},
   "outputs": [],
   "source": []
  }
 ],
 "metadata": {
  "kernelspec": {
   "display_name": "Python 3",
   "language": "python",
   "name": "python3"
  },
  "language_info": {
   "codemirror_mode": {
    "name": "ipython",
    "version": 3
   },
   "file_extension": ".py",
   "mimetype": "text/x-python",
   "name": "python",
   "nbconvert_exporter": "python",
   "pygments_lexer": "ipython3",
   "version": "3.8.5"
  }
 },
 "nbformat": 4,
 "nbformat_minor": 4
}
