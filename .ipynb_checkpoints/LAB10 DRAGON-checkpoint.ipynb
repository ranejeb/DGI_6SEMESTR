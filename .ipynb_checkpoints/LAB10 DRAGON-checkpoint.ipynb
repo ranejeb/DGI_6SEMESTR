{
 "cells": [
  {
   "cell_type": "code",
   "execution_count": null,
   "metadata": {},
   "outputs": [],
   "source": [
    "from turtle import *\n",
    "\n",
    "\n",
    "\n",
    "def go_drakoning(t, length, depth, sign = 1):\n",
    "\n",
    "    if depth == 1:\n",
    "\n",
    "        t.forward(length)\n",
    "\n",
    "    else:\n",
    "\n",
    "        t.left(45*sign)\n",
    "\n",
    "        go_drakoning(t, length/2**0.5, depth - 1, 1)\n",
    "\n",
    "        t.right(90*sign)\n",
    "\n",
    "        go_drakoning(t, length/2**0.5, depth - 1, -1)\n",
    "\n",
    "        t.left(45*sign)\n",
    "\n",
    "\n",
    "\n",
    "t = Turtle()\n",
    "\n",
    "t.color(\"green\")\n",
    "\n",
    "go_drakoning(t, 100, 10)"
   ]
  },
  {
   "cell_type": "code",
   "execution_count": null,
   "metadata": {},
   "outputs": [],
   "source": []
  }
 ],
 "metadata": {
  "kernelspec": {
   "display_name": "Python 3",
   "language": "python",
   "name": "python3"
  },
  "language_info": {
   "codemirror_mode": {
    "name": "ipython",
    "version": 3
   },
   "file_extension": ".py",
   "mimetype": "text/x-python",
   "name": "python",
   "nbconvert_exporter": "python",
   "pygments_lexer": "ipython3",
   "version": "3.8.5"
  }
 },
 "nbformat": 4,
 "nbformat_minor": 4
}
