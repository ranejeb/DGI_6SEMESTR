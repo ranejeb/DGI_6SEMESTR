{
 "cells": [
  {
   "cell_type": "code",
   "execution_count": null,
   "metadata": {},
   "outputs": [],
   "source": [
    "import math\n",
    "import turtle\n",
    "\n",
    "lenght = int(input(\"Введите длинну отрезка: \"))\n",
    "n = int(input(\"Введите n: \"))\n",
    "alfa = int(input(\"Введите альфа: \"))\n",
    "beta = 90 - alfa\n",
    "\n",
    "window = turtle.Screen()\n",
    "window.setup(width=800, height=600, startx=200, starty=50)\n",
    "window = turtle.Screen()\n",
    "t = turtle.Turtle()\n",
    "t.hideturtle()\n",
    "t.penup()\n",
    "t.goto(0, 250)\n",
    "t.pendown()\n",
    "t.pensize(1)\n",
    "t.speed(1)\n",
    "t.penup()\n",
    "t.goto(-75, -275)\n",
    "t.pendown()\n",
    "\n",
    "\n",
    "def fractal(aturt, length, depth, maxdepth):\n",
    "    if depth > maxdepth:\n",
    "        return\n",
    "    length1 = length * math.sin(math.radians(alfa))\n",
    "    length2 = length * math.sin(math.radians(beta))\n",
    "\n",
    "    aturt.color(\"green\")\n",
    "    anotherturt = aturt.clone()\n",
    "    anotherturt.color(\"blue\")\n",
    "    aturt.forward(length)\n",
    "    aturt.left(alfa)\n",
    "    fractal(aturt, length2, depth + 1, maxdepth)\n",
    "    anotherturt.right(90)\n",
    "    anotherturt.forward(length)\n",
    "    anotherturt.left(90)\n",
    "    anotherturt.forward(length)\n",
    "    if depth != maxdepth:\n",
    "        turt3 = anotherturt.clone()\n",
    "        turt3.color(\"yellow\")\n",
    "        turt3.left(alfa)\n",
    "        turt3.forward(length1)\n",
    "        turt3.right(90)\n",
    "        fractal(turt3, length1, depth + 1, maxdepth)\n",
    "    anotherturt.left(90)\n",
    "    anotherturt.forward(length)\n",
    "\n",
    "\n",
    "t.left(90)\n",
    "fractal(t, lenght, 1, n)\n",
    "window.exitonclick()"
   ]
  }
 ],
 "metadata": {
  "kernelspec": {
   "display_name": "Python 3",
   "language": "python",
   "name": "python3"
  },
  "language_info": {
   "codemirror_mode": {
    "name": "ipython",
    "version": 3
   },
   "file_extension": ".py",
   "mimetype": "text/x-python",
   "name": "python",
   "nbconvert_exporter": "python",
   "pygments_lexer": "ipython3",
   "version": "3.8.5"
  }
 },
 "nbformat": 4,
 "nbformat_minor": 4
}
