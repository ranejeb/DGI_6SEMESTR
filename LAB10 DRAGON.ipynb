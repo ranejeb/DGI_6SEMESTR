{
 "cells": [
  {
   "cell_type": "code",
   "execution_count": 1,
   "metadata": {},
   "outputs": [],
   "source": [
    "from turtle import *\n",
    "\n",
    "def go_drakon(t, length, depth, sign = 1):\n",
    "    if depth == 1:\n",
    "        t.forward(length)\n",
    "    else:\n",
    "        t.left(45*sign)\n",
    "        go_drakon(t, length/2**0.5, depth - 1, 1)\n",
    "        t.right(90*sign)\n",
    "        go_drakon(t, length/2**0.5, depth - 1, -1)\n",
    "        t.left(45*sign)\n",
    "t = Turtle()\n",
    "t.color(\"green\")\n",
    "go_drakon(t, 100, 2)"
   ]
  },
  {
   "cell_type": "code",
   "execution_count": null,
   "metadata": {},
   "outputs": [],
   "source": []
  },
  {
   "cell_type": "code",
   "execution_count": null,
   "metadata": {},
   "outputs": [],
   "source": []
  }
 ],
 "metadata": {
  "kernelspec": {
   "display_name": "Python 3",
   "language": "python",
   "name": "python3"
  },
  "language_info": {
   "codemirror_mode": {
    "name": "ipython",
    "version": 3
   },
   "file_extension": ".py",
   "mimetype": "text/x-python",
   "name": "python",
   "nbconvert_exporter": "python",
   "pygments_lexer": "ipython3",
   "version": "3.9.4"
  }
 },
 "nbformat": 4,
 "nbformat_minor": 4
}
